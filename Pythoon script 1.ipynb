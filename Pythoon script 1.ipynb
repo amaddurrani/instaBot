{
 "cells": [
  {
   "cell_type": "code",
   "execution_count": 2,
   "metadata": {},
   "outputs": [],
   "source": [
    "import requests\n",
    "from selenium import webdriver\n",
    "from selenium.webdriver.common.keys import Keys\n",
    "import pyautogui as pg\n",
    "import time\n",
    "import re\n",
    "from random import random\n",
    "from bs4 import BeautifulSoup as bs\n",
    "from urllib.request import urlopen"
   ]
  },
  {
   "cell_type": "code",
   "execution_count": 17,
   "metadata": {},
   "outputs": [],
   "source": [
    "\n",
    "def login(user,password):\n",
    "    print(user)\n",
    "    print(password)\n",
    "    driver = webdriver.Chrome()\n",
    "    driver.get(\"https://www.instagram.com/accounts/login\")\n",
    "    time.sleep(5)\n",
    "    pg.press(\"tab\")\n",
    "    time.sleep(2)\n",
    "    pg.typewrite(user,0.1)\n",
    "    pg.press(\"tab\")\n",
    "    time.sleep(2)\n",
    "    pg.typewrite(password,0.1)\n",
    "    time.sleep(2)\n",
    "    pg.press(\"enter\")\n",
    "    time.sleep(6)\n",
    "    driver.get(\"https://www.instagram.com/explore/tags/golfing/\")\n",
    "    pg.click(95,538)\n",
    "    time.sleep(5)\n",
    "    i=0\n",
    "    images_url=[]\n",
    "    while i!=2:\n",
    "        time.sleep(10)\n",
    "        pg.press(\"right\")\n",
    "        i=i+1\n",
    "        j=\" \"\n",
    "        html_to_parse=str(driver.page_source)\n",
    "        html=bs(html_to_parse,\"html5lib\")\n",
    "        j=html.find(\"img\", {\"class\": \"FFVAD\"})\n",
    "        images_url.append(j)\n",
    "        \n",
    "    return images_url\n",
    "\n",
    "    "
   ]
  },
  {
   "cell_type": "code",
   "execution_count": 18,
   "metadata": {},
   "outputs": [
    {
     "name": "stdout",
     "output_type": "stream",
     "text": [
      
      "[<img alt=\"Photo by D E V A N | P E C K H A M in Mineola Country Club with @puma, @jadelynnbrooke, @loudmouthgolf_hq, @hayespeckham, and @mineolacountryclub. Image may contain: 2 people, people standing, shorts, sunglasses, sky, shoes, outdoor, nature and closeup\" class=\"FFVAD\" decoding=\"auto\" sizes=\"228.328125px\" src=\"https://instagram.fisb5-1.fna.fbcdn.net/v/t51.2885-15/sh0.08/e35/c0.180.1440.1440a/s640x640/95127760_1180954182241627_2520813008538598706_n.jpg?_nc_ht=instagram.fisb5-1.fna.fbcdn.net&amp;_nc_cat=107&amp;_nc_ohc=yrsrSlhlcKQAX-aSYxN&amp;oh=9bfc3b9a0eab4b5513905465b2e67a2d&amp;oe=5ECF485A\" srcset=\"https://instagram.fisb5-1.fna.fbcdn.net/v/t51.2885-15/e35/c0.180.1440.1440a/s150x150/95127760_1180954182241627_2520813008538598706_n.jpg?_nc_ht=instagram.fisb5-1.fna.fbcdn.net&amp;_nc_cat=107&amp;_nc_ohc=yrsrSlhlcKQAX-aSYxN&amp;oh=03b9c465031513feb521c96a54c727c8&amp;oe=5ED138EA 150w,https://instagram.fisb5-1.fna.fbcdn.net/v/t51.2885-15/e35/c0.180.1440.1440a/s240x240/95127760_1180954182241627_2520813008538598706_n.jpg?_nc_ht=instagram.fisb5-1.fna.fbcdn.net&amp;_nc_cat=107&amp;_nc_ohc=yrsrSlhlcKQAX-aSYxN&amp;oh=24f7be016f56331b77e305eefe14b250&amp;oe=5ED1D470 240w,https://instagram.fisb5-1.fna.fbcdn.net/v/t51.2885-15/e35/c0.180.1440.1440a/s320x320/95127760_1180954182241627_2520813008538598706_n.jpg?_nc_ht=instagram.fisb5-1.fna.fbcdn.net&amp;_nc_cat=107&amp;_nc_ohc=yrsrSlhlcKQAX-aSYxN&amp;oh=92a0b789316332102c9da223be2536f0&amp;oe=5ECF8C92 320w,https://instagram.fisb5-1.fna.fbcdn.net/v/t51.2885-15/e35/c0.180.1440.1440a/s480x480/95127760_1180954182241627_2520813008538598706_n.jpg?_nc_ht=instagram.fisb5-1.fna.fbcdn.net&amp;_nc_cat=107&amp;_nc_ohc=yrsrSlhlcKQAX-aSYxN&amp;oh=35f4a60612e7bc7ed3cb3fc36e2e0f62&amp;oe=5ECEE457 480w,https://instagram.fisb5-1.fna.fbcdn.net/v/t51.2885-15/sh0.08/e35/c0.180.1440.1440a/s640x640/95127760_1180954182241627_2520813008538598706_n.jpg?_nc_ht=instagram.fisb5-1.fna.fbcdn.net&amp;_nc_cat=107&amp;_nc_ohc=yrsrSlhlcKQAX-aSYxN&amp;oh=9bfc3b9a0eab4b5513905465b2e67a2d&amp;oe=5ECF485A 640w\" style=\"object-fit: cover;\"/>, <img alt=\"Photo by D E V A N | P E C K H A M in Mineola Country Club with @puma, @jadelynnbrooke, @loudmouthgolf_hq, @hayespeckham, and @mineolacountryclub. Image may contain: 2 people, people standing, shorts, sunglasses, sky, shoes, outdoor, nature and closeup\" class=\"FFVAD\" decoding=\"auto\" sizes=\"228.328125px\" src=\"https://instagram.fisb5-1.fna.fbcdn.net/v/t51.2885-15/sh0.08/e35/c0.180.1440.1440a/s640x640/95127760_1180954182241627_2520813008538598706_n.jpg?_nc_ht=instagram.fisb5-1.fna.fbcdn.net&amp;_nc_cat=107&amp;_nc_ohc=yrsrSlhlcKQAX-aSYxN&amp;oh=9bfc3b9a0eab4b5513905465b2e67a2d&amp;oe=5ECF485A\" srcset=\"https://instagram.fisb5-1.fna.fbcdn.net/v/t51.2885-15/e35/c0.180.1440.1440a/s150x150/95127760_1180954182241627_2520813008538598706_n.jpg?_nc_ht=instagram.fisb5-1.fna.fbcdn.net&amp;_nc_cat=107&amp;_nc_ohc=yrsrSlhlcKQAX-aSYxN&amp;oh=03b9c465031513feb521c96a54c727c8&amp;oe=5ED138EA 150w,https://instagram.fisb5-1.fna.fbcdn.net/v/t51.2885-15/e35/c0.180.1440.1440a/s240x240/95127760_1180954182241627_2520813008538598706_n.jpg?_nc_ht=instagram.fisb5-1.fna.fbcdn.net&amp;_nc_cat=107&amp;_nc_ohc=yrsrSlhlcKQAX-aSYxN&amp;oh=24f7be016f56331b77e305eefe14b250&amp;oe=5ED1D470 240w,https://instagram.fisb5-1.fna.fbcdn.net/v/t51.2885-15/e35/c0.180.1440.1440a/s320x320/95127760_1180954182241627_2520813008538598706_n.jpg?_nc_ht=instagram.fisb5-1.fna.fbcdn.net&amp;_nc_cat=107&amp;_nc_ohc=yrsrSlhlcKQAX-aSYxN&amp;oh=92a0b789316332102c9da223be2536f0&amp;oe=5ECF8C92 320w,https://instagram.fisb5-1.fna.fbcdn.net/v/t51.2885-15/e35/c0.180.1440.1440a/s480x480/95127760_1180954182241627_2520813008538598706_n.jpg?_nc_ht=instagram.fisb5-1.fna.fbcdn.net&amp;_nc_cat=107&amp;_nc_ohc=yrsrSlhlcKQAX-aSYxN&amp;oh=35f4a60612e7bc7ed3cb3fc36e2e0f62&amp;oe=5ECEE457 480w,https://instagram.fisb5-1.fna.fbcdn.net/v/t51.2885-15/sh0.08/e35/c0.180.1440.1440a/s640x640/95127760_1180954182241627_2520813008538598706_n.jpg?_nc_ht=instagram.fisb5-1.fna.fbcdn.net&amp;_nc_cat=107&amp;_nc_ohc=yrsrSlhlcKQAX-aSYxN&amp;oh=9bfc3b9a0eab4b5513905465b2e67a2d&amp;oe=5ECF485A 640w\" style=\"object-fit: cover;\"/>]\n"
     ]
    }
   ],
   "source": [
   
    "\n",
    "urls=login(user,password)\n",
    "print(urls)\n",
    "\n"
   ]
  },
  {
   "cell_type": "code",
   "execution_count": 19,
   "metadata": {},
   "outputs": [
    {
     "name": "stdout",
     "output_type": "stream",
     "text": [
      "True\n"
     ]
    }
   ],
   "source": [
    "print(urls[0]==urls[1])"
   ]
  },
  {
   "cell_type": "code",
   "execution_count": null,
   "metadata": {},
   "outputs": [],
   "source": [
    "a='<img alt=\"Photo by Nicole &amp; Golf in Algarve with @golfbabes, @golfchicks, and @thefairwayhotties. Image may contain: 2 people, people sitting, drink and outdoor\" class=\"FFVAD\" decoding=\"auto\" sizes=\"383px\" srcset=\"https://instagram.fisb5-1.fna.fbcdn.net/v/t51.2885-15/sh0.08/e35/s640x640/94448119_228670535015847_3694470329207546134_n.jpg?_nc_ht=instagram.fisb5-1.fna.fbcdn.net&amp;_nc_cat=103&amp;_nc_ohc=LyzuCf-3O_gAX9kZKwm&amp;oh=6383b193c0480de7a5d293a46ff26638&amp;oe=5ED19F48 640w,https://instagram.fisb5-1.fna.fbcdn.net/v/t51.2885-15/sh0.08/e35/s750x750/94448119_228670535015847_3694470329207546134_n.jpg?_nc_ht=instagram.fisb5-1.fna.fbcdn.net&amp;_nc_cat=103&amp;_nc_ohc=LyzuCf-3O_gAX9kZKwm&amp;oh=da16d969fab2be6aaa470f651d3ad672&amp;oe=5ED21FC8 750w,https://instagram.fisb5-1.fna.fbcdn.net/v/t51.2885-15/e35/s1080x1080/94448119_228670535015847_3694470329207546134_n.jpg?_nc_ht=instagram.fisb5-1.fna.fbcdn.net&amp;_nc_cat=103&amp;_nc_ohc=LyzuCf-3O_gAX9kZKwm&amp;oh=b1ac455cb9f4abe1ee883ffcca3ba0e7&amp;oe=5ED17471 1080w\" src=\"https://instagram.fisb5-1.fna.fbcdn.net/v/t51.2885-15/e35/s1080x1080/94448119_228670535015847_3694470329207546134_n.jpg?_nc_ht=instagram.fisb5-1.fna.fbcdn.net&amp;_nc_cat=103&amp;_nc_ohc=LyzuCf-3O_gAX9kZKwm&amp;oh=b1ac455cb9f4abe1ee883ffcca3ba0e7&amp;oe=5ED17471\" style=\"object-fit: cover;\">'\n",
    "b="
   ]
  }
 ],
 "metadata": {
  "kernelspec": {
   "display_name": "Python 3",
   "language": "python",
   "name": "python3"
  },
  "language_info": {
   "codemirror_mode": {
    "name": "ipython",
    "version": 3
   },
   "file_extension": ".py",
   "mimetype": "text/x-python",
   "name": "python",
   "nbconvert_exporter": "python",
   "pygments_lexer": "ipython3",
   "version": "3.7.4"
  }
 },
 "nbformat": 4,
 "nbformat_minor": 2
}
